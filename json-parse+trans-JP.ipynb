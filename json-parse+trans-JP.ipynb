{
 "cells": [
  {
   "cell_type": "code",
   "execution_count": 5,
   "metadata": {},
   "outputs": [
    {
     "data": {
      "text/plain": [
       "'\\nfor n in dic:\\n    print( \"dict = {}\".format(n[\\'id\\']) )\\n'"
      ]
     },
     "execution_count": 5,
     "metadata": {},
     "output_type": "execute_result"
    }
   ],
   "source": [
    "#  trans-questions-ja\n",
    "\n",
    "import json\n",
    "import boto3\n",
    "# FNAMEは、jsonのフルパス元ファイル名を指定します\n",
    "FNAME = '/Users/morookak/Documents/00_misc/FY22/MRAv2-JP-trans/AS400-additional-20220617/template-MRA2-V3.4.json'\n",
    "# JANAMEは、出力先のフルパスファイル名を指定します\n",
    "JANAME = '/Users/morookak/Documents/00_misc/FY22/MRAv2-JP-trans/AS400-additional-20220617/result.json'\n",
    "\n",
    "translate = boto3.client(service_name='translate', region_name='ap-northeast-1', use_ssl=True)\n",
    "\n",
    "# 　辞書型でデータをインポート\n",
    "# 　ソースのjsonファイル名をFNAMEで取る\n",
    "with open(FNAME) as fd:\n",
    "    dic = json.load(fd)\n"
   ]
  },
  {
   "cell_type": "code",
   "execution_count": 6,
   "metadata": {},
   "outputs": [
    {
     "name": "stdout",
     "output_type": "stream",
     "text": [
      "- - - - - - - - - - - - - - - - - - - - - - - - - - - - - - - - - - - - - - - - - - - - - - - - - - - - - - - - - - - - - - - - - - - - - - - - - - - - - - - - - - - - - - - - - - - - - - - - - - - - - - - - - - - - - - - - - - - - - - - - - - - - - - - - - - - - - - - - - -- End this jupyter section! --\n"
     ]
    }
   ],
   "source": [
    "# idが optionalAS400 の部分を探す 該当部分行番号は jsonファイル内のL3566 - 4727\n",
    "for n in dic[\"section\"][\"perspectives\"]:    # ここは辞書型\n",
    "    if n['id'] == 'optionalAS400':\n",
    "        # print('id : optionalAS400 = {} \\n----------'.format(n['id']))\n",
    "        m = n['categories']\n",
    "        '''\n",
    "        print(\"abbreviation = {}\".format(m[0]['abbreviation']))\n",
    "        print(\"questions[0] = {}\\n\".format(m[0]['questions'][0]['question']))\n",
    "        print(\"questions[1] = {}\\n\".format(m[0]['questions'][1]['question']))\n",
    "        print(\"questions[2] = {}\\n\".format(m[0]['questions'][2]['question']))\n",
    "        ''' \n",
    "        # categoriesの中に、questions が複数あり、各questions の中にも複数のquestionがリスト型で含まれている\n",
    "        for tmp in m: \n",
    "            qlist = tmp['questions']    # Get question list in questions section.\n",
    "\n",
    "            for i in qlist:\n",
    "                print(\"-\", end=\" \")\n",
    "               # 以下で、翻訳する各部分に対してAmazon Translate で処理する。 \n",
    "               # questionのリスト内にキーワードがない、またはブランク””文字列（サイズが０）の場合は何もせずに次に進む\n",
    "            \n",
    "               # QUESTION : Get question data & translate & replace it.\n",
    "                if 'question' in i and len( i['question'] ) != 0:    # question key is not, or \"\" blank case.\n",
    "                    rc = translate.translate_text(Text = i['question'], SourceLanguageCode=\"en\", TargetLanguageCode=\"ja\")\n",
    "                    i['question']  = rc.get('TranslatedText')\n",
    "                \n",
    "                # HINT : Get question data & translate & replace it.                \n",
    "                if  'hint' in i and len( i['hint'] ) != 0:\n",
    "                    rc = translate.translate_text(Text = i['hint'], SourceLanguageCode=\"en\", TargetLanguageCode=\"ja\")\n",
    "                    i['hint'] = rc.get('TranslatedText')\n",
    "                \n",
    "                # CONTEXT : Get question data & translate & replace it.\n",
    "                if  'context' in i and len( i['context'] ) != 0:\n",
    "                    # print(\"-- context = {}\".format(i['context']))\n",
    "                    rc = translate.translate_text(Text = i['context'], SourceLanguageCode=\"en\", TargetLanguageCode=\"ja\")\n",
    "                    i['context'] = rc.get('TranslatedText')        # Replace en sentence to ja.\n",
    "                    \n",
    "                # RATING 1-5 : insert same logic.\n",
    "                if  'rating1' in i and len( i['rating1'] ) != 0:\n",
    "                    rc = translate.translate_text(Text = i['rating1'], SourceLanguageCode=\"en\", TargetLanguageCode=\"ja\")\n",
    "                    i['rating1'] = rc.get('TranslatedText')\n",
    "                if  'rating2' in i and len( i['rating2'] ) != 0:\n",
    "                    rc = translate.translate_text(Text = i['rating2'], SourceLanguageCode=\"en\", TargetLanguageCode=\"ja\")\n",
    "                    i['rating2'] = rc.get('TranslatedText')\n",
    "                if  'rating3' in i and len( i['rating3'] ) != 0:\n",
    "                    rc = translate.translate_text(Text = i['rating3'], SourceLanguageCode=\"en\", TargetLanguageCode=\"ja\")\n",
    "                    i['rating3'] = rc.get('TranslatedText')\n",
    "                if  'rating4' in i and len( i['rating4'] ) != 0:\n",
    "                    rc = translate.translate_text(Text = i['rating4'], SourceLanguageCode=\"en\", TargetLanguageCode=\"ja\")\n",
    "                    i['rating4'] = rc.get('TranslatedText')\n",
    "                if  'rating5' in i and len( i['rating5'] ) != 0:\n",
    "                    rc = translate.translate_text(Text = i['rating5'], SourceLanguageCode=\"en\", TargetLanguageCode=\"ja\")\n",
    "                    i['rating5'] = rc.get('TranslatedText')\n",
    "                \n",
    "        # print(\"--- optionalAS400 categories----------------------------------------------------\")\n",
    "        # print(n['categories'])\n",
    "# print(\"--- dic  ----------------------------------------------------\")\n",
    "# print(dic)\n",
    "print(\"-- End this jupyter section! --\")"
   ]
  },
  {
   "cell_type": "code",
   "execution_count": 7,
   "metadata": {},
   "outputs": [
    {
     "name": "stdout",
     "output_type": "stream",
     "text": [
      "--- End json file translate from en -> jp. ---\n",
      "--- File name = /Users/morookak/Documents/00_misc/FY22/MRAv2-JP-trans/AS400-additional-20220617/result.json ---\n"
     ]
    }
   ],
   "source": [
    "#  出力ファイルJANAMEへのjson形式での書出し\n",
    "\n",
    "with open(JANAME, 'w') as fd:\n",
    "    json.dump(dic, fd, indent=2, ensure_ascii=False)\n",
    "print(\"--- End json file translate from en -> jp. ---\")    \n",
    "print(\"--- File name = {} ---\".format(JANAME))"
   ]
  },
  {
   "cell_type": "code",
   "execution_count": null,
   "metadata": {},
   "outputs": [],
   "source": []
  }
 ],
 "metadata": {
  "kernelspec": {
   "display_name": "Python 3 (ipykernel)",
   "language": "python",
   "name": "python3"
  },
  "language_info": {
   "codemirror_mode": {
    "name": "ipython",
    "version": 3
   },
   "file_extension": ".py",
   "mimetype": "text/x-python",
   "name": "python",
   "nbconvert_exporter": "python",
   "pygments_lexer": "ipython3",
   "version": "3.9.12"
  }
 },
 "nbformat": 4,
 "nbformat_minor": 4
}
